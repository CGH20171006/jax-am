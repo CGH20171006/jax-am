{
 "cells": [
  {
   "cell_type": "code",
   "execution_count": 1,
   "id": "2a7e1bd5",
   "metadata": {},
   "outputs": [],
   "source": [
    "import sys\n",
    "sys.path.append('../../')\n",
    "\n",
    "import jax\n",
    "import jax.numpy as np\n",
    "import numpy as onp\n",
    "import os\n",
    "import matplotlib.pyplot as plt\n",
    "from discretization2D import *\n",
    "from solver import *\n",
    "from plot import *\n",
    "\n",
    "os.environ[\"CUDA_VISIBLE_DEVICES\"]=\"1\"\n",
    "jax.config.update(\"jax_enable_x64\", True)\n",
    "%matplotlib notebook"
   ]
  },
  {
   "cell_type": "code",
   "execution_count": 2,
   "id": "9576a176",
   "metadata": {},
   "outputs": [],
   "source": [
    "### 2D box mesh\n",
    "domain_x = 1.\n",
    "domain_y = 1.\n",
    "Nx = 128\n",
    "Ny = 128\n",
    "cell_num = Nx*Ny\n",
    "num_nodes = (Nx + 1) * (Ny + 1)\n",
    "x = onp.linspace(0., domain_x, Nx + 1)\n",
    "y = onp.linspace(0., domain_y, Ny + 1)\n",
    "xx, yy = onp.meshgrid(x, y, indexing='ij')\n",
    "points = onp.vstack([xx.reshape(-1), yy.reshape(-1)]).T\n",
    "\n",
    "xc = np.array((xx[1:, 1:] + xx[:-1, 1:])/2)[:, :,None]\n",
    "yc = np.array((yy[1:, 1:] + yy[1:, :-1])/2)[:, :,None]\n",
    "\n",
    "dX = np.array([domain_x/Nx, domain_y/Ny])\n",
    "\n",
    "### BC: -x,+x,-y,+y; 0 for dirichlet, 1 for neumann\n",
    "BCs = [0,0,0,0]\n",
    "v1 = np.array([0.,0.,])\n",
    "v2 = np.array([1.,0.,])\n",
    "values = [v1,v1,v1,v2]\n",
    "BC_info = [BCs,values]"
   ]
  },
  {
   "cell_type": "code",
   "execution_count": 3,
   "id": "434401b5",
   "metadata": {},
   "outputs": [],
   "source": [
    "### example 1: transient solver, implicit \n",
    "def compute_residual(vel,p,vel0,vel0_f):\n",
    "    p_b = get_bound_values(p,[[1,1,1,1],[0,0,0,0]],dX)\n",
    "    vel_b = get_bound_values(vel,BC_info,dX)\n",
    "    \n",
    "    res1 = ((vel-vel0)/dt*dX[0]*dX[1] + \n",
    "            convection(vel,vel_b,vel0_f,dX) - \n",
    "            diffusion(vel,vel_b,visco,dX) + \n",
    "            gradient(p,p_b,dX)*dX[0]*dX[1])\n",
    "    \n",
    "    u_f,v_f = get_face_values(vel,BC_info,dX)\n",
    "    res2 = ((u_f[1:,:]-u_f[:-1,:])*dX[1] + (v_f[:,1:]-v_f[:,:-1])*dX[0])  \n",
    "    \n",
    "    return np.concatenate((res1.flatten(),res2.flatten()))\n",
    "\n",
    "@jax.jit\n",
    "def time_integration(vel0,vel0_f):\n",
    "    def A_fn(f):\n",
    "        vel = f[:Nx*Ny*2].reshape((Nx,Ny,-1))\n",
    "        p = f[Nx*Ny*2:].reshape((Nx,Ny,-1))\n",
    "        return compute_residual(vel,p,vel0,vel0_f)\n",
    "    \n",
    "    \n",
    "    dofs = np.zeros(Nx*Ny*3)\n",
    "    dofs,res = solver_linear(A_fn,dofs)\n",
    "    \n",
    "    vel0 = dofs[:Nx*Ny*2].reshape(Nx,Ny,-1)\n",
    "    p = dofs[Nx*Ny*2:].reshape(Nx,Ny,-1)\n",
    "    vel0_f = get_face_values(vel0,BC_info,dX)\n",
    "    return vel0,vel0_f,p,res"
   ]
  },
  {
   "cell_type": "code",
   "execution_count": null,
   "id": "a475f484",
   "metadata": {
    "scrolled": true
   },
   "outputs": [],
   "source": [
    "%%time\n",
    "#Re = 100\n",
    "visco = 0.001\n",
    "dt = 0.005\n",
    "vel0 = np.zeros((Nx,Ny,2))\n",
    "p0 = np.zeros((Nx,Ny,1))\n",
    "vel0_f = get_face_values(vel0,BC_info,dX)\n",
    "for i in range(0,3000):\n",
    "    vel0,vel0_f,p0,res = time_integration(vel0,vel0_f)\n",
    "    \n",
    "    if res > 1e-5:\n",
    "        print(f\"res_norm = {res}, check the convergence!\")\n",
    "        break\n",
    "    if i % 50 == 0:\n",
    "        print(f\"res_norm = {res}\")\n",
    "\n",
    "plot_lcd_contour(vel0,xc,yc,interval=10)"
   ]
  },
  {
   "cell_type": "code",
   "execution_count": null,
   "id": "cefadfbb",
   "metadata": {},
   "outputs": [],
   "source": [
    "plot_lcd_compare(vel0,xc,yc,Re=1000,legend='calculated')"
   ]
  },
  {
   "cell_type": "code",
   "execution_count": null,
   "id": "74f9daa0",
   "metadata": {},
   "outputs": [],
   "source": []
  }
 ],
 "metadata": {
  "kernelspec": {
   "display_name": "Python 3",
   "language": "python",
   "name": "python3"
  },
  "language_info": {
   "codemirror_mode": {
    "name": "ipython",
    "version": 3
   },
   "file_extension": ".py",
   "mimetype": "text/x-python",
   "name": "python",
   "nbconvert_exporter": "python",
   "pygments_lexer": "ipython3",
   "version": "3.8.8"
  }
 },
 "nbformat": 4,
 "nbformat_minor": 5
}
